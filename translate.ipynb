{
 "cells": [
  {
   "cell_type": "code",
   "execution_count": null,
   "id": "00bd6124",
   "metadata": {},
   "outputs": [],
   "source": [
    "import os\n",
    "import json\n",
    "import argparse\n",
    "import time\n",
    "from easynmt import EasyNMT\n",
    "\n",
    "from tqdm import tqdm"
   ]
  },
  {
   "cell_type": "code",
   "execution_count": null,
   "id": "798713db",
   "metadata": {},
   "outputs": [],
   "source": [
    "for tgt_lang in ['ja', 'fr', 'de', 'zh', 'es']:\n",
    "    root_dir = './marc/'\n",
    "    train_en_json_dir = os.path.join(root_dir, 'train', 'dataset_en_train.json')\n",
    "    tgt_dir = train_en_json_dir.replace('en', 'en_{}'.format(tgt_lang))\n",
    "    \n",
    "    all_json = []\n",
    "    for idx in tqdm(range(1, 51)):\n",
    "        tmp_tgt_dir = tgt_dir.replace('train.json', 'train_{}.json'.format(idx))\n",
    "        with open(tmp_tgt_dir, \"r\", encoding=\"utf-8\") as f:\n",
    "            for line in f.readlines():\n",
    "                line = json.loads(line.strip())\n",
    "                all_json.append(line)\n",
    "                \n",
    "        if idx == 50:\n",
    "            with open(tgt_dir, encoding=\"utf-8\", mode=\"w\") as file:\n",
    "                for l in all_json:\n",
    "                    file.write(json.dumps(l) + \"\\n\")"
   ]
  },
  {
   "cell_type": "code",
   "execution_count": null,
   "id": "5e0e3c70",
   "metadata": {},
   "outputs": [],
   "source": [
    "input_file = './marc/train/dataset_de_train.json'\n",
    "with open(input_file, \"r\", encoding=\"utf-8\") as f:\n",
    "    for idx, line in enumerate(f):\n",
    "        print (line)\n",
    "        print ('before', type(line))\n",
    "        line = json.loads(line.strip())\n",
    "        print (line)\n",
    "        print ('after', type(line))\n",
    "        label = int(line[\"stars\"])\n",
    "        \n",
    "        break\n",
    "\n",
    "print (\"\\n\\n\\n\")\n",
    "\n",
    "input_file = './marc/train/dataset_en_de_train_1.json'\n",
    "with open(input_file, \"r\", encoding=\"utf-8\") as f:\n",
    "    for idx, line in enumerate(f):\n",
    "        print (line)\n",
    "        print ('before', type(line))\n",
    "        line = json.loads(line.strip())\n",
    "        print (line)\n",
    "        print ('after', type(line))\n",
    "        label = int(line[\"stars\"])\n",
    "        \n",
    "        break\n",
    "        \n",
    "print (\"\\n\\n\\n\")\n",
    "        \n",
    "input_file = './marc/train/dataset_en_de_train.json'\n",
    "with open(input_file, \"r\", encoding=\"utf-8\") as f:\n",
    "    for idx, line in enumerate(f):\n",
    "        print (line)\n",
    "        print ('before', type(line))\n",
    "        line = json.loads(line.strip())\n",
    "        print (line)\n",
    "        print ('after', type(line))\n",
    "        \n",
    "        break"
   ]
  }
 ],
 "metadata": {
  "kernelspec": {
   "display_name": "Full on Python 3.7 (GPU)",
   "language": "python",
   "name": "python3"
  },
  "language_info": {
   "codemirror_mode": {
    "name": "ipython",
    "version": 3
   },
   "file_extension": ".py",
   "mimetype": "text/x-python",
   "name": "python",
   "nbconvert_exporter": "python",
   "pygments_lexer": "ipython3",
   "version": "3.7.11"
  }
 },
 "nbformat": 4,
 "nbformat_minor": 5
}
