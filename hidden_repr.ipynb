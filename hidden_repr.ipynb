{
 "cells": [
  {
   "cell_type": "code",
   "execution_count": null,
   "id": "c34c18f5",
   "metadata": {},
   "outputs": [],
   "source": [
    "# libraries from finetuning_parameters.py\n",
    "from finetuning_parameters import get_args\n",
    "from future.baseline_trainer import BaselineTuner\n",
    "from future.modules import ptl2classes\n",
    "from future.hooks import EvaluationRecorder\n",
    "\n",
    "from data_loader.wrap_sampler import wrap_sampler\n",
    "import data_loader.task_configs as task_configs\n",
    "import data_loader.data_configs as data_configs\n",
    "from future.collocate_fns import task2collocate_fn\n",
    "\n",
    "import utils.checkpoint as checkpoint\n",
    "import utils.logging as logging\n",
    "\n",
    "import torch\n",
    "import random\n",
    "import os\n",
    "\n",
    "# libraries from future/base.py\n",
    "from torch.utils.data import SequentialSampler, RandomSampler\n",
    "from future.hooks import EvaluationRecorder\n",
    "import utils.eval_meters as eval_meters\n",
    "from seqeval.metrics import f1_score as f1_score_tagging\n",
    "import torch\n",
    "\n",
    "# libraries from future/baseline_trainer.py\n",
    "import torch\n",
    "import torch.nn as nn\n",
    "import numpy as np\n",
    "from copy import deepcopy\n",
    "from future.base import BaseTrainer\n",
    "from future.hooks.base_hook import HookContainer\n",
    "from future.hooks import EvaluationRecorder\n",
    "from torch.utils.data import RandomSampler\n",
    "from collections import defaultdict, Counter\n",
    "from tqdm import tqdm\n",
    "\n",
    "# and so on..\n",
    "from finetuning_baseline import init_config, init_task, init_hooks\n",
    "\n",
    "os.environ[\"CUDA_DEVICE_ORDER\"]=\"PCI_BUS_ID\"   \n",
    "os.environ[\"CUDA_VISIBLE_DEVICES\"]=\"1\""
   ]
  },
  {
   "cell_type": "code",
   "execution_count": null,
   "id": "f169155c",
   "metadata": {},
   "outputs": [],
   "source": [
    "# define task and model (same in finetuning_parameters.py)"
   ]
  },
  {
   "cell_type": "code",
   "execution_count": null,
   "id": "cf272360",
   "metadata": {},
   "outputs": [],
   "source": [
    "parser = get_args()\n",
    "conf = parser.parse_args(args=[])"
   ]
  },
  {
   "cell_type": "code",
   "execution_count": null,
   "id": "e7220744",
   "metadata": {},
   "outputs": [],
   "source": [
    "conf.dataset_name = 'pawsx'\n",
    "conf.trn_languages = 'english'\n",
    "conf.eval_languages = 'english'\n",
    "conf.finetune_epochs = 10\n",
    "conf.finetune_batch_size = 256\n",
    "conf.eval_every_batch = 50\n",
    "conf.override = False\n",
    "conf.train_fast = False\n",
    "conf.world = '0'\n",
    "conf.finetune_lr = 1e-5"
   ]
  },
  {
   "cell_type": "code",
   "execution_count": null,
   "id": "46b7eab1",
   "metadata": {
    "scrolled": true
   },
   "outputs": [],
   "source": [
    "init_config(conf)\n",
    "model, tokenizer, data_iter, metric_name, collocate_batch_fn = init_task(conf)\n",
    "adapt_loaders = {}\n",
    "for language, language_dataset in data_iter.items():\n",
    "    # NOTE: the sample dataset are refered\n",
    "    adapt_loaders[language] = wrap_sampler(\n",
    "        trn_batch_size=conf.finetune_batch_size,\n",
    "        infer_batch_size=conf.inference_batch_size,\n",
    "        language=language,\n",
    "        language_dataset=language_dataset,\n",
    "    )\n",
    "hooks = init_hooks(conf, metric_name)"
   ]
  },
  {
   "cell_type": "code",
   "execution_count": null,
   "id": "7ae08a1f",
   "metadata": {},
   "outputs": [],
   "source": [
    "trainer = BaselineTuner(\n",
    "        conf, collocate_batch_fn=collocate_batch_fn, logger=conf.logger\n",
    "    )"
   ]
  },
  {
   "cell_type": "code",
   "execution_count": null,
   "id": "11224076",
   "metadata": {},
   "outputs": [],
   "source": [
    "labels = np.empty((0,))\n",
    "features = np.empty((0, 768))\n",
    "\n",
    "# trainer.train\n",
    "opt, model = trainer._init_model_opt(model)\n",
    "trainer.model = model\n",
    "trainer.model.eval()\n",
    "\n",
    "for epoch_index in tqdm(range(1, 1 + 1)):\n",
    "    trn_iters = []\n",
    "    for languge in trainer.conf.trn_languages:\n",
    "        egs = adapt_loaders[language].trn_egs\n",
    "        assert isinstance(egs.sampler, RandomSampler)\n",
    "        trn_iters.append(iter(egs))\n",
    "        \n",
    "    batches_per_epoch = max(len(ti) for ti in trn_iters)\n",
    "    for batch_index in range(1, batches_per_epoch + 1):\n",
    "        trn_loss = []\n",
    "        for ti in trn_iters:\n",
    "            try:\n",
    "                batched = next(ti)\n",
    "            except StopIteration:\n",
    "                continue\n",
    "            batched, golds, uids, _golds_tagging = trainer.collocate_batch_fn(\n",
    "                batched\n",
    "            )\n",
    "            with torch.no_grad():\n",
    "                hidden = trainer.model.get_last_hidden(**batched)\n",
    "                labels = np.concatenate((labels, golds.cpu()))\n",
    "                features = np.concatenate((features, hidden.cpu()), axis=0)\n",
    "                print (hidden.size())"
   ]
  },
  {
   "cell_type": "code",
   "execution_count": null,
   "id": "cbeea6ba",
   "metadata": {},
   "outputs": [],
   "source": [
    "import pickle\n",
    "\n",
    "def save_pickle(file, data):\n",
    "    with open(file, 'wb') as f:\n",
    "        pickle.dump(data, f)\n",
    "        \n",
    "def load_pickle(file):\n",
    "    with open(file, 'rb') as f:\n",
    "        return pickle.load(f)"
   ]
  },
  {
   "cell_type": "code",
   "execution_count": null,
   "id": "6ff52038",
   "metadata": {},
   "outputs": [],
   "source": [
    "base_means = []\n",
    "base_covs = []\n",
    "output_dict = {}\n",
    "\n",
    "for i in np.unique(labels):\n",
    "    feature = features[labels == i]\n",
    "    mean = np.mean(feature, axis=0)\n",
    "    cov = np.cov(feature.T)\n",
    "    base_means.append(mean)\n",
    "    base_covs.append(cov)\n",
    "    \n",
    "    output_dict[str(int(i))] = [{\"mean\": mean, \"cov\": cov}]"
   ]
  },
  {
   "cell_type": "code",
   "execution_count": null,
   "id": "b43af2dc",
   "metadata": {},
   "outputs": [],
   "source": [
    "save_pickle('features.pkl', output_dict)"
   ]
  },
  {
   "cell_type": "code",
   "execution_count": null,
   "id": "99f9be27",
   "metadata": {},
   "outputs": [],
   "source": [
    "load_pickle('features.pkl')"
   ]
  }
 ],
 "metadata": {
  "kernelspec": {
   "display_name": "Full on Python 3.7 (GPU)",
   "language": "python",
   "name": "python3"
  },
  "language_info": {
   "codemirror_mode": {
    "name": "ipython",
    "version": 3
   },
   "file_extension": ".py",
   "mimetype": "text/x-python",
   "name": "python",
   "nbconvert_exporter": "python",
   "pygments_lexer": "ipython3",
   "version": "3.7.11"
  }
 },
 "nbformat": 4,
 "nbformat_minor": 5
}
