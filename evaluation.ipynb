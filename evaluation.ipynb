{
 "cells": [
  {
   "cell_type": "code",
   "execution_count": 1,
   "id": "939dc881",
   "metadata": {},
   "outputs": [
    {
     "name": "stderr",
     "output_type": "stream",
     "text": [
      "2022-03-02 01:27:23.545861: W tensorflow/stream_executor/platform/default/dso_loader.cc:64] Could not load dynamic library 'libcudart.so.11.0'; dlerror: libcudart.so.11.0: cannot open shared object file: No such file or directory; LD_LIBRARY_PATH: /usr/local/ssl/lib:/usr/local/cuda/extras/CUPTI/lib64:/usr/local/cuda/lib64:/usr/local/nvidia/lib64:/usr/include/x86_64-linux-gnu\n",
      "2022-03-02 01:27:23.545886: I tensorflow/stream_executor/cuda/cudart_stub.cc:29] Ignore above cudart dlerror if you do not have a GPU set up on your machine.\n"
     ]
    }
   ],
   "source": [
    "# libraries from finetuning_parameters.py\n",
    "from finetuning_parameters import get_args\n",
    "from future.baseline_trainer import BaselineTuner\n",
    "from future.modules import ptl2classes\n",
    "from future.hooks import EvaluationRecorder\n",
    "\n",
    "from data_loader.wrap_sampler import wrap_sampler\n",
    "import data_loader.task_configs as task_configs\n",
    "import data_loader.data_configs as data_configs\n",
    "from future.collocate_fns import task2collocate_fn\n",
    "\n",
    "import utils.checkpoint as checkpoint\n",
    "import utils.logging as logging\n",
    "\n",
    "import torch\n",
    "import random\n",
    "import os\n",
    "\n",
    "# libraries from future/base.py\n",
    "from torch.utils.data import SequentialSampler, RandomSampler\n",
    "from future.hooks import EvaluationRecorder\n",
    "import utils.eval_meters as eval_meters\n",
    "from seqeval.metrics import f1_score as f1_score_tagging\n",
    "import torch\n",
    "\n",
    "# libraries from future/baseline_trainer.py\n",
    "import torch\n",
    "import torch.nn as nn\n",
    "import numpy as np\n",
    "from copy import deepcopy\n",
    "from future.base import BaseTrainer\n",
    "from future.hooks.base_hook import HookContainer\n",
    "from future.hooks import EvaluationRecorder\n",
    "from torch.utils.data import RandomSampler\n",
    "from collections import defaultdict, Counter\n",
    "from tqdm import tqdm\n",
    "\n",
    "# and so on..\n",
    "from finetuning_baseline import init_config, init_task, init_hooks"
   ]
  },
  {
   "cell_type": "code",
   "execution_count": 2,
   "id": "36d3dd2e",
   "metadata": {},
   "outputs": [],
   "source": [
    "parser = get_args()\n",
    "conf = parser.parse_args(args=[])"
   ]
  },
  {
   "cell_type": "code",
   "execution_count": 20,
   "id": "07e50912",
   "metadata": {},
   "outputs": [],
   "source": [
    "conf.dataset_name = 'xnli'\n",
    "conf.trn_languages = 'english'\n",
    "if conf.dataset_name == 'pawsx':\n",
    "    conf.eval_languages = 'english,german,chinese,french,japanese,korean,spanish'\n",
    "elif conf.dataset_name == 'xnli':\n",
    "    conf.eval_languages = 'english,arabic,bulgarian,chinese,french,german,greek,hindi,russian,spanish,swahili,thai,turkish,urdu,vietnamese'\n",
    "conf.finetune_epochs = 10\n",
    "conf.finetune_batch_size = 256\n",
    "conf.eval_every_batch = 50\n",
    "conf.override = False\n",
    "conf.train_fast = False\n",
    "conf.world = '0'\n",
    "conf.finetune_lr = 1e-5"
   ]
  },
  {
   "cell_type": "code",
   "execution_count": 21,
   "id": "3c0f294f",
   "metadata": {},
   "outputs": [
    {
     "name": "stdout",
     "output_type": "stream",
     "text": [
      "./checkpoint_baseline/xnli/debug/1646186597_model_task-xnli_flr-1.0E-05_ftbs-256_ftepcs-10_sd-3_trnfast-False_evalevery-50_tlang-en_vlang-en-ar-bg-zh-fr-de-el-hi-ru-es-sw-th-tr-ur-vi\n",
      "\n",
      "\n",
      "parameters: \n",
      "\toverride\tFalse\n",
      "\texperiment\tdebug\n",
      "\tptl\tbert\n",
      "\tmodel\tbert-base-uncased\n",
      "\tdataset_name\txnli\n",
      "\tmax_seq_len\t128\n",
      "\ttrn_languages\t['english']\n",
      "\teval_languages\t['english', 'arabic', 'bulgarian', 'chinese', 'french', 'german', 'greek', 'hindi', 'russian', 'spanish', 'swahili', 'thai', 'turkish', 'urdu', 'vietnamese']\n",
      "\tfinetune_epochs\t10\n",
      "\teval_every_batch\t50\n",
      "\tfinetune_batch_size\t256\n",
      "\tfinetune_lr\t1e-05\n",
      "\tinference_batch_size\t512\n",
      "\tdata_path\t./data/download\n",
      "\tcheckpoint\t./checkpoint_baseline\n",
      "\tmanual_seed\t3\n",
      "\tsummary_freq\t100\n",
      "\ttime_stamp\tNone\n",
      "\ttrain_fast\tFalse\n",
      "\ttrack_time\tTrue\n",
      "\tworld\t[0]\n",
      "\tis_finished\tFalse\n",
      "\ttask\txnli\n",
      "\tn_sub_process\t1\n",
      "\ttime_stamp_\t1646186597_model_task-xnli_flr-1.0E-05_ftbs-256_ftepcs-10_sd-3_trnfast-False_evalevery-50_tlang-en_vlang-en-ar-bg-zh-fr-de-el-hi-ru-es-sw-th-tr-ur-vi\n",
      "\tcheckpoint_root\t./checkpoint_baseline/xnli/debug/1646186597_model_task-xnli_flr-1.0E-05_ftbs-256_ftepcs-10_sd-3_trnfast-False_evalevery-50_tlang-en_vlang-en-ar-bg-zh-fr-de-el-hi-ru-es-sw-th-tr-ur-vi\n",
      "\tlogger\t<utils.logging.Logger object at 0x7f383ab53750>\n",
      "\n",
      "\n",
      "experiment platform: workspace-s39hzlgtvbvt-0.\n",
      "2490 ./data/download/xnli/dev-ar.tsv\n",
      "5010 ./data/download/xnli/test-ar.tsv\n",
      "2490 ./data/download/xnli/dev-bg.tsv\n",
      "5010 ./data/download/xnli/test-bg.tsv\n",
      "2490 ./data/download/xnli/dev-de.tsv\n",
      "5010 ./data/download/xnli/test-de.tsv\n",
      "2490 ./data/download/xnli/dev-el.tsv\n",
      "5010 ./data/download/xnli/test-el.tsv\n",
      "2490 ./data/download/xnli/dev-en.tsv\n",
      "5010 ./data/download/xnli/test-en.tsv\n",
      "2490 ./data/download/xnli/dev-es.tsv\n",
      "5010 ./data/download/xnli/test-es.tsv\n",
      "2490 ./data/download/xnli/dev-fr.tsv\n",
      "5010 ./data/download/xnli/test-fr.tsv\n",
      "2490 ./data/download/xnli/dev-hi.tsv\n",
      "5010 ./data/download/xnli/test-hi.tsv\n",
      "2490 ./data/download/xnli/dev-ru.tsv\n",
      "5010 ./data/download/xnli/test-ru.tsv\n",
      "2490 ./data/download/xnli/dev-sw.tsv\n",
      "5010 ./data/download/xnli/test-sw.tsv\n",
      "2490 ./data/download/xnli/dev-th.tsv\n",
      "5010 ./data/download/xnli/test-th.tsv\n",
      "2490 ./data/download/xnli/dev-tr.tsv\n",
      "5010 ./data/download/xnli/test-tr.tsv\n",
      "2490 ./data/download/xnli/dev-ur.tsv\n",
      "5010 ./data/download/xnli/test-ur.tsv\n",
      "2490 ./data/download/xnli/dev-vi.tsv\n",
      "5010 ./data/download/xnli/test-vi.tsv\n",
      "2490 ./data/download/xnli/dev-zh.tsv\n",
      "5010 ./data/download/xnli/test-zh.tsv\n"
     ]
    },
    {
     "name": "stderr",
     "output_type": "stream",
     "text": [
      "Some weights of the model checkpoint at bert-base-uncased were not used when initializing BertForSequenceClassification: ['cls.predictions.bias', 'cls.predictions.transform.dense.weight', 'cls.predictions.transform.dense.bias', 'cls.predictions.decoder.weight', 'cls.seq_relationship.weight', 'cls.seq_relationship.bias', 'cls.predictions.transform.LayerNorm.weight', 'cls.predictions.transform.LayerNorm.bias']\n",
      "- This IS expected if you are initializing BertForSequenceClassification from the checkpoint of a model trained on another task or with another architecture (e.g. initializing a BertForSequenceClassification model from a BertForPreTraining model).\n",
      "- This IS NOT expected if you are initializing BertForSequenceClassification from the checkpoint of a model that you expect to be exactly identical (initializing a BertForSequenceClassification model from a BertForSequenceClassification model).\n",
      "Some weights of BertForSequenceClassification were not initialized from the model checkpoint at bert-base-uncased and are newly initialized: ['classifier.weight', 'classifier.bias']\n",
      "You should probably TRAIN this model on a down-stream task to be able to use it for predictions and inference.\n"
     ]
    },
    {
     "name": "stdout",
     "output_type": "stream",
     "text": [
      "[INFO] loading cached dataset.\n",
      "[INFO] loading cached dataset.\n",
      "[INFO] loading cached dataset.\n",
      "[INFO] loading cached dataset.\n",
      "[INFO] loading cached dataset.\n",
      "[INFO] loading cached dataset.\n",
      "[INFO] loading cached dataset.\n",
      "[INFO] loading cached dataset.\n",
      "[INFO] loading cached dataset.\n",
      "[INFO] loading cached dataset.\n",
      "[INFO] loading cached dataset.\n",
      "[INFO] loading cached dataset.\n",
      "[INFO] loading cached dataset.\n",
      "[INFO] loading cached dataset.\n",
      "[INFO] loading cached dataset.\n",
      "[INFO] loading cached dataset.\n",
      "[INFO] loading cached dataset.\n",
      "[INFO] loading cached dataset.\n",
      "[INFO] loading cached dataset.\n",
      "[INFO] loading cached dataset.\n",
      "[INFO] loading cached dataset.\n",
      "[INFO] loading cached dataset.\n",
      "[INFO] loading cached dataset.\n",
      "[INFO] loading cached dataset.\n",
      "[INFO] loading cached dataset.\n",
      "[INFO] loading cached dataset.\n",
      "[INFO] loading cached dataset.\n",
      "[INFO] loading cached dataset.\n",
      "[INFO] loading cached dataset.\n",
      "[INFO] loading cached dataset.\n",
      "[INFO] loading cached dataset.\n"
     ]
    },
    {
     "data": {
      "text/plain": [
       "{'arabic': <data_loader.data_iters.SeqClsDataIter at 0x7f38559356d0>,\n",
       " 'bulgarian': <data_loader.data_iters.SeqClsDataIter at 0x7f380fb17f10>,\n",
       " 'chinese': <data_loader.data_iters.SeqClsDataIter at 0x7f380fa87550>,\n",
       " 'english': <data_loader.data_iters.SeqClsDataIter at 0x7f380f31b390>,\n",
       " 'french': <data_loader.data_iters.SeqClsDataIter at 0x7f380ef03c10>,\n",
       " 'german': <data_loader.data_iters.SeqClsDataIter at 0x7f382315d7d0>,\n",
       " 'greek': <data_loader.data_iters.SeqClsDataIter at 0x7f3822e30890>,\n",
       " 'hindi': <data_loader.data_iters.SeqClsDataIter at 0x7f380c256290>,\n",
       " 'russian': <data_loader.data_iters.SeqClsDataIter at 0x7f3823262750>,\n",
       " 'spanish': <data_loader.data_iters.SeqClsDataIter at 0x7f3841a0ca50>,\n",
       " 'swahili': <data_loader.data_iters.SeqClsDataIter at 0x7f38235ebe10>,\n",
       " 'thai': <data_loader.data_iters.SeqClsDataIter at 0x7f380ef4a710>,\n",
       " 'turkish': <data_loader.data_iters.SeqClsDataIter at 0x7f380ef29310>,\n",
       " 'urdu': <data_loader.data_iters.SeqClsDataIter at 0x7f380c612310>,\n",
       " 'vietnamese': <data_loader.data_iters.SeqClsDataIter at 0x7f3822b174d0>}"
      ]
     },
     "execution_count": 21,
     "metadata": {},
     "output_type": "execute_result"
    }
   ],
   "source": [
    "init_config(conf)\n",
    "model, tokenizer, data_iter, metric_name, collocate_batch_fn = init_task(conf)\n",
    "\n",
    "data_iter"
   ]
  },
  {
   "cell_type": "code",
   "execution_count": 22,
   "id": "fcd84e56",
   "metadata": {},
   "outputs": [
    {
     "name": "stdout",
     "output_type": "stream",
     "text": [
      "[WARN] trn_egs of arabic has zero egs\n",
      "[WARN] trn_egs of bulgarian has zero egs\n",
      "[WARN] trn_egs of chinese has zero egs\n",
      "[WARN] trn_egs of french has zero egs\n",
      "[WARN] trn_egs of german has zero egs\n",
      "[WARN] trn_egs of greek has zero egs\n",
      "[WARN] trn_egs of hindi has zero egs\n",
      "[WARN] trn_egs of russian has zero egs\n",
      "[WARN] trn_egs of spanish has zero egs\n",
      "[WARN] trn_egs of swahili has zero egs\n",
      "[WARN] trn_egs of thai has zero egs\n",
      "[WARN] trn_egs of turkish has zero egs\n",
      "[WARN] trn_egs of urdu has zero egs\n",
      "[WARN] trn_egs of vietnamese has zero egs\n"
     ]
    }
   ],
   "source": [
    "adapt_loaders = {}\n",
    "for language, language_dataset in data_iter.items():\n",
    "    # NOTE: the sample dataset are refered\n",
    "    adapt_loaders[language] = wrap_sampler(\n",
    "        trn_batch_size=conf.finetune_batch_size,\n",
    "        infer_batch_size=conf.inference_batch_size,\n",
    "        language=language,\n",
    "        language_dataset=language_dataset,\n",
    "    )\n",
    "hooks = init_hooks(conf, metric_name)"
   ]
  },
  {
   "cell_type": "code",
   "execution_count": 23,
   "id": "782cb79c",
   "metadata": {},
   "outputs": [
    {
     "name": "stdout",
     "output_type": "stream",
     "text": [
      "2022-03-02 02:03:43\tInit trainer.\n"
     ]
    },
    {
     "data": {
      "text/plain": [
       "['english',\n",
       " 'arabic',\n",
       " 'bulgarian',\n",
       " 'chinese',\n",
       " 'french',\n",
       " 'german',\n",
       " 'greek',\n",
       " 'hindi',\n",
       " 'russian',\n",
       " 'spanish',\n",
       " 'swahili',\n",
       " 'thai',\n",
       " 'turkish',\n",
       " 'urdu',\n",
       " 'vietnamese']"
      ]
     },
     "execution_count": 23,
     "metadata": {},
     "output_type": "execute_result"
    }
   ],
   "source": [
    "trainer = BaselineTuner(\n",
    "        conf, collocate_batch_fn=collocate_batch_fn, logger=conf.logger\n",
    "    )\n",
    "trainer.conf.eval_languages"
   ]
  },
  {
   "cell_type": "code",
   "execution_count": 24,
   "id": "a07d1292",
   "metadata": {},
   "outputs": [
    {
     "data": {
      "text/plain": [
       "_IncompatibleKeys(missing_keys=[], unexpected_keys=['bert.embeddings.position_ids'])"
      ]
     },
     "execution_count": 24,
     "metadata": {},
     "output_type": "execute_result"
    }
   ],
   "source": [
    "if conf.dataset_name == 'xnli':\n",
    "    PATH='/home/vessl/FSXLT/_checkpoint_baseline/xnli/debug/1645106190_model_task-xnli_flr-3.0E-05_ftbs-32_ftepcs-10_sd-3_trnfast-False_evalevery-50_tlang-en_vlang-en/state_dicts/best_state.pt'\n",
    "elif conf.dataset_name == 'pawsx':\n",
    "    PATH='/home/vessl/FSXLT/_checkpoint_baseline/pawsx/debug/1645085231_model_task-pawsx_flr-1.0E-05_ftbs-32_ftepcs-10_sd-3_trnfast-False_evalevery-50_tlang-en_vlang-en/state_dicts/best_state.pt'\n",
    "model.load_state_dict(torch.load(PATH)['best_state_dict'], strict=False)"
   ]
  },
  {
   "cell_type": "code",
   "execution_count": 25,
   "id": "ac126c01",
   "metadata": {},
   "outputs": [
    {
     "name": "stdout",
     "output_type": "stream",
     "text": [
      "Initialize Optimizer and Model\n",
      "model = model.cuda()\n",
      "Start language-english\n",
      "tensor(85.7831, device='cuda:0')\n",
      "Start language-arabic\n",
      "tensor(33.8153, device='cuda:0')\n",
      "Start language-bulgarian\n",
      "tensor(34.6586, device='cuda:0')\n",
      "Start language-chinese\n",
      "tensor(34.6185, device='cuda:0')\n",
      "Start language-french\n",
      "tensor(40.9639, device='cuda:0')\n",
      "Start language-german\n",
      "tensor(37.6305, device='cuda:0')\n",
      "Start language-greek\n",
      "tensor(34.8193, device='cuda:0')\n",
      "Start language-hindi\n",
      "tensor(33.8554, device='cuda:0')\n",
      "Start language-russian\n",
      "tensor(34.3775, device='cuda:0')\n",
      "Start language-spanish\n",
      "tensor(43.0924, device='cuda:0')\n",
      "Start language-swahili\n",
      "tensor(38.6747, device='cuda:0')\n",
      "Start language-thai\n",
      "tensor(35.6627, device='cuda:0')\n",
      "Start language-turkish\n",
      "tensor(38.3534, device='cuda:0')\n",
      "Start language-urdu\n",
      "tensor(33.6546, device='cuda:0')\n",
      "Start language-vietnamese\n",
      "tensor(37.1888, device='cuda:0')\n"
     ]
    }
   ],
   "source": [
    "# trainer.train\n",
    "opt, model = trainer._init_model_opt(model)\n",
    "trainer.model = model\n",
    "trainer.model.eval()\n",
    "\n",
    "# for epoch_index in tqdm(range(1, 1 + 1)):\n",
    "    \n",
    "for language in trainer.conf.eval_languages: # trn_languages\n",
    "    print (\"Start language-{}\".format(language))\n",
    "    labels = np.empty((0,))\n",
    "    features = np.empty((0, 768))\n",
    "    trn_iters = []\n",
    "    egs = adapt_loaders[language].val_egs # trn_egs\n",
    "    trn_iters.append(iter(egs))\n",
    "    \n",
    "    correct = 0.\n",
    "    total = 0.\n",
    "\n",
    "    batches_per_epoch = max(len(ti) for ti in trn_iters)\n",
    "    for batch_index in range(1, batches_per_epoch + 1):\n",
    "        trn_loss = []\n",
    "        for ti in trn_iters:\n",
    "            try:\n",
    "                batched = next(ti)\n",
    "            except StopIteration:\n",
    "                continue\n",
    "            batched, golds, uids, _golds_tagging = trainer.collocate_batch_fn(\n",
    "                batched\n",
    "            )\n",
    "            with torch.no_grad():\n",
    "                logits = trainer.model(**batched)\n",
    "                correct += (logits[0].max(1)[1] == golds).sum()\n",
    "                total += len(logits[0])\n",
    "                \n",
    "    print (correct / total * 100)"
   ]
  },
  {
   "cell_type": "code",
   "execution_count": null,
   "id": "f05513df",
   "metadata": {},
   "outputs": [],
   "source": []
  }
 ],
 "metadata": {
  "kernelspec": {
   "display_name": "Full on Python 3.7 (GPU)",
   "language": "python",
   "name": "python3"
  },
  "language_info": {
   "codemirror_mode": {
    "name": "ipython",
    "version": 3
   },
   "file_extension": ".py",
   "mimetype": "text/x-python",
   "name": "python",
   "nbconvert_exporter": "python",
   "pygments_lexer": "ipython3",
   "version": "3.7.11"
  }
 },
 "nbformat": 4,
 "nbformat_minor": 5
}
