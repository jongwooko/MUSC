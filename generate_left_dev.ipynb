{
 "cells": [
  {
   "cell_type": "code",
   "execution_count": 1,
   "id": "c9655766",
   "metadata": {},
   "outputs": [],
   "source": [
    "import os\n",
    "import json\n",
    "import pickle\n",
    "from data_loader.data_configs import abbre2language, language2abbre\n",
    "import pandas as pd\n",
    "import numpy as np"
   ]
  },
  {
   "cell_type": "code",
   "execution_count": 2,
   "id": "8ead02a3",
   "metadata": {},
   "outputs": [],
   "source": [
    "import pickle\n",
    "\n",
    "def save_pickle(file, data):\n",
    "    with open(file, 'wb') as f:\n",
    "        pickle.dump(data, f)\n",
    "        \n",
    "def load_pickle(file):\n",
    "    with open(file, 'rb') as f:\n",
    "        return pickle.load(f)"
   ]
  },
  {
   "cell_type": "code",
   "execution_count": 43,
   "id": "94f6af14",
   "metadata": {},
   "outputs": [],
   "source": [
    "for dataset in ['marc', 'pawsx', 'xnli', 'panx', 'udpos']:\n",
    "    if dataset == 'marc':\n",
    "        shots = [1, 2, 4, 8]\n",
    "        langs = ['chinese', 'french', 'german', 'japanese', 'spanish']\n",
    "    elif dataset == 'pawsx':\n",
    "        shots = [1, 2, 4, 8]\n",
    "        langs = ['chinese', 'french', 'german', 'japanese', 'korean', 'spanish']\n",
    "    elif dataset == 'xnli':\n",
    "        shots = [1, 2, 4, 8]\n",
    "        langs = ['arabic', 'bulgarian', 'chinese', 'french', 'german', 'greek', 'hindi', 'russian', 'spanish', 'swahili', 'thai', 'turkish', 'urdu', 'vietnamese']\n",
    "    elif dataset == 'panx':\n",
    "        shots = [1, 2, 4]\n",
    "        langs = ['af', 'ar', 'bg', 'bn', 'de', 'el', 'en', 'es', 'et', 'eu', 'fa', 'fi', 'fr', 'he', 'hi', 'hu', 'id', 'it', 'ja', 'jv', 'ka', 'kk', 'ko', 'ml', 'mr', 'ms', 'my', 'nl', 'pt', 'ru', 'sw', 'ta', 'te', 'th', 'tl', 'tr', 'ur', 'vi', 'yo', 'zh']\n",
    "        continue\n",
    "    elif dataset == 'udpos':\n",
    "        shots = [1, 2, 4]\n",
    "        langs = ['af', 'ar', 'bg', 'de', 'el', 'en', 'es', 'et', 'eu', 'fa', 'fi', 'fr', 'he', 'hi', 'hu', 'id', 'it', 'ja', 'ko', 'mr', 'nl', 'pt', 'ru', 'ta', 'te', 'tr', 'ur', 'vi', 'zh']\n",
    "        continue\n",
    "    else:\n",
    "        raise ValueError\n",
    "        \n",
    "    bucket_dict = {}\n",
    "    for shot in shots:\n",
    "        for lang in langs:\n",
    "            for group_index in range(40):\n",
    "                json_filename = './buckets/{}/{}-shots/{}/{}-th/sampled.json'.format(dataset, shot, lang, group_index)\n",
    "                with open(json_filename, \"r\") as f:\n",
    "                    json_file = json.load(f)\n",
    "                    \n",
    "                for _, v in json_file.items():\n",
    "                    key, idx, _ = v[0]['uid'].split('-')\n",
    "                    if key not in bucket_dict.keys():\n",
    "                        bucket_dict[key] = [int(idx)]\n",
    "                    else:\n",
    "                        bucket_dict[key].append(int(idx))\n",
    "                        \n",
    "    os.makedirs('./buckets/index', exist_ok=True)\n",
    "    save_pickle('./buckets/index/{}.pkl'.format(dataset), bucket_dict)\n",
    "    \n",
    "    os.makedirs('./buckets/left_dev/{}'.format(dataset), exist_ok=True)\n",
    "    for lang in langs:\n",
    "        if dataset in ['pawsx', 'xnli']:\n",
    "            dev = pd.read_csv('./data/download/{}/dev-{}.tsv'.format(dataset, language2abbre[lang]),\n",
    "                              sep='\\t', header=None)\n",
    "        else:\n",
    "            continue\n",
    "\n",
    "        idxs = load_pickle('./buckets/index/{}.pkl'.format(dataset))[lang]\n",
    "        left_dev = []\n",
    "        for i in range(dev.count()[0]):\n",
    "            if i+1 not in idxs:\n",
    "                left_dev.append(np.array(dev.iloc[i]).tolist())\n",
    "        left_dev = pd.DataFrame(left_dev)\n",
    "        left_dev.to_csv('./buckets/left_dev/{}/{}.tsv'.format(dataset, language2abbre[lang]),\n",
    "                        sep='\\t', header=None, index=False)"
   ]
  }
 ],
 "metadata": {
  "kernelspec": {
   "display_name": "Full on Python 3.7 (GPU)",
   "language": "python",
   "name": "python3"
  },
  "language_info": {
   "codemirror_mode": {
    "name": "ipython",
    "version": 3
   },
   "file_extension": ".py",
   "mimetype": "text/x-python",
   "name": "python",
   "nbconvert_exporter": "python",
   "pygments_lexer": "ipython3",
   "version": "3.7.11"
  }
 },
 "nbformat": 4,
 "nbformat_minor": 5
}
