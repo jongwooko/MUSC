{
 "cells": [
  {
   "cell_type": "code",
   "execution_count": 1,
   "id": "a3596abc",
   "metadata": {},
   "outputs": [
    {
     "name": "stderr",
     "output_type": "stream",
     "text": [
      "2022-04-13 08:56:42.366111: W tensorflow/stream_executor/platform/default/dso_loader.cc:64] Could not load dynamic library 'libcudart.so.11.0'; dlerror: libcudart.so.11.0: cannot open shared object file: No such file or directory; LD_LIBRARY_PATH: /usr/local/ssl/lib:/usr/local/cuda/extras/CUPTI/lib64:/usr/local/cuda/lib64:/usr/local/nvidia/lib64:/usr/include/x86_64-linux-gnu\n",
      "2022-04-13 08:56:42.366139: I tensorflow/stream_executor/cuda/cudart_stub.cc:29] Ignore above cudart dlerror if you do not have a GPU set up on your machine.\n"
     ]
    }
   ],
   "source": [
    "# libraries from finetuning_parameters.py\n",
    "from finetuning_parameters import get_args\n",
    "from future.baseline_trainer import BaselineTuner\n",
    "from future.modules import ptl2classes\n",
    "from future.hooks import EvaluationRecorder\n",
    "\n",
    "from data_loader.wrap_sampler import wrap_sampler\n",
    "import data_loader.task_configs as task_configs\n",
    "import data_loader.data_configs as data_configs\n",
    "from future.collocate_fns import task2collocate_fn\n",
    "\n",
    "import utils.checkpoint as checkpoint\n",
    "import utils.logging as logging\n",
    "\n",
    "import torch\n",
    "import random\n",
    "import os\n",
    "\n",
    "# libraries from future/base.py\n",
    "from torch.utils.data import SequentialSampler, RandomSampler\n",
    "from future.hooks import EvaluationRecorder\n",
    "import utils.eval_meters as eval_meters\n",
    "from seqeval.metrics import f1_score as f1_score_tagging\n",
    "import torch\n",
    "\n",
    "# libraries from future/baseline_trainer.py\n",
    "import torch\n",
    "import torch.nn as nn\n",
    "import numpy as np\n",
    "from copy import deepcopy\n",
    "from future.base import BaseTrainer\n",
    "from future.hooks.base_hook import HookContainer\n",
    "from future.hooks import EvaluationRecorder\n",
    "from torch.utils.data import RandomSampler\n",
    "from collections import defaultdict, Counter\n",
    "from tqdm import tqdm\n",
    "\n",
    "# and so on..\n",
    "from finetuning_baseline import init_config, init_task, init_hooks\n",
    "\n",
    "os.environ[\"CUDA_DEVICE_ORDER\"]=\"PCI_BUS_ID\"   \n",
    "os.environ[\"CUDA_VISIBLE_DEVICES\"]=\"1\""
   ]
  },
  {
   "cell_type": "code",
   "execution_count": 2,
   "id": "a372224d",
   "metadata": {},
   "outputs": [],
   "source": [
    "parser = get_args()\n",
    "conf = parser.parse_args(args=[])"
   ]
  },
  {
   "cell_type": "code",
   "execution_count": 3,
   "id": "c968a7fb",
   "metadata": {},
   "outputs": [],
   "source": [
    "conf.dataset_name = 'pawsx'\n",
    "conf.trn_languages = 'english'\n",
    "if conf.dataset_name == 'pawsx':\n",
    "#     conf.eval_languages = 'english,german'\n",
    "    conf.eval_languages = 'english,german,chinese,french,japanese,korean,spanish'\n",
    "elif conf.dataset_name == 'xnli':\n",
    "    conf.eval_languages = 'english,arabic,bulgarian,chinese,french,german,greek,hindi,russian,spanish,swahili,thai,turkish,urdu,vietnamese'\n",
    "conf.finetune_epochs = 10\n",
    "conf.finetune_batch_size = 256\n",
    "conf.eval_every_batch = 50\n",
    "conf.override = False\n",
    "conf.train_fast = False\n",
    "conf.world = '0'\n",
    "conf.finetune_lr = 1e-5"
   ]
  },
  {
   "cell_type": "code",
   "execution_count": 4,
   "id": "1308f812",
   "metadata": {},
   "outputs": [
    {
     "name": "stdout",
     "output_type": "stream",
     "text": [
      "/input/jongwooko/xlt/checkpoint_baseline/pawsx/debug/1649840230_model_task-pawsx_flr-1.0E-05_ftbs-256_ftepcs-10_sd-3_trnfast-False_evalevery-50_tlang-en_vlang-en-de-zh-fr-ja-ko-es\n",
      "\n",
      "\n",
      "parameters: \n",
      "\toverride\tFalse\n",
      "\texperiment\tdebug\n",
      "\tptl\tbert\n",
      "\tmodel\tbert-base-multilingual-cased\n",
      "\tdataset_name\tpawsx\n",
      "\tmax_seq_len\t128\n",
      "\ttrn_languages\t['english']\n",
      "\teval_languages\t['english', 'german', 'chinese', 'french', 'japanese', 'korean', 'spanish']\n",
      "\tfinetune_epochs\t10\n",
      "\teval_every_batch\t50\n",
      "\tfinetune_batch_size\t256\n",
      "\tfinetune_lr\t1e-05\n",
      "\tinference_batch_size\t512\n",
      "\tdata_path\t/input/jongwooko/xlt/data/download\n",
      "\tcheckpoint\t/input/jongwooko/xlt/checkpoint_baseline\n",
      "\tmanual_seed\t3\n",
      "\tsummary_freq\t100\n",
      "\ttime_stamp\tNone\n",
      "\ttrain_fast\tFalse\n",
      "\ttrack_time\tTrue\n",
      "\tworld\t[0]\n",
      "\tlocal_rank\t-1\n",
      "\tsupcon\tFalse\n",
      "\tsupcon_checkpoint\tNone\n",
      "\ttrain_classifier\tTrue\n",
      "\ttrain_pooler\tTrue\n",
      "\tis_finished\tFalse\n",
      "\ttask\tpawsx\n",
      "\tn_sub_process\t1\n",
      "\ttime_stamp_\t1649840230_model_task-pawsx_flr-1.0E-05_ftbs-256_ftepcs-10_sd-3_trnfast-False_evalevery-50_tlang-en_vlang-en-de-zh-fr-ja-ko-es\n",
      "\tcheckpoint_root\t/input/jongwooko/xlt/checkpoint_baseline/pawsx/debug/1649840230_model_task-pawsx_flr-1.0E-05_ftbs-256_ftepcs-10_sd-3_trnfast-False_evalevery-50_tlang-en_vlang-en-de-zh-fr-ja-ko-es\n",
      "\n",
      "\n",
      "experiment platform: workspace-19oqkgvtn2lg-0.\n",
      "$$$$$$$$$$$$$$$$$$$$$$$$$$$$$$$$$$$$$$$$$$$$$\n",
      "cuda\n",
      "4\n",
      "[INFO]: skip de trn: not such file\n",
      "/input/jongwooko/xlt/data/download/pawsx/dev-de.tsv 2000\n",
      "/input/jongwooko/xlt/data/download/pawsx/test-de.tsv 2000\n",
      "/input/jongwooko/xlt/data/download/pawsx/train-en.tsv 49401\n",
      "/input/jongwooko/xlt/data/download/pawsx/dev-en.tsv 2000\n",
      "/input/jongwooko/xlt/data/download/pawsx/test-en.tsv 2000\n",
      "[INFO]: skip es trn: not such file\n",
      "/input/jongwooko/xlt/data/download/pawsx/dev-es.tsv 2000\n",
      "/input/jongwooko/xlt/data/download/pawsx/test-es.tsv 2000\n",
      "[INFO]: skip fr trn: not such file\n",
      "/input/jongwooko/xlt/data/download/pawsx/dev-fr.tsv 2000\n",
      "/input/jongwooko/xlt/data/download/pawsx/test-fr.tsv 2000\n",
      "[INFO]: skip ja trn: not such file\n",
      "/input/jongwooko/xlt/data/download/pawsx/dev-ja.tsv 2000\n",
      "/input/jongwooko/xlt/data/download/pawsx/test-ja.tsv 2000\n",
      "[INFO]: skip ko trn: not such file\n",
      "/input/jongwooko/xlt/data/download/pawsx/dev-ko.tsv 2000\n",
      "/input/jongwooko/xlt/data/download/pawsx/test-ko.tsv 2000\n",
      "[INFO]: skip zh trn: not such file\n",
      "/input/jongwooko/xlt/data/download/pawsx/dev-zh.tsv 2000\n",
      "/input/jongwooko/xlt/data/download/pawsx/test-zh.tsv 2000\n"
     ]
    },
    {
     "name": "stderr",
     "output_type": "stream",
     "text": [
      "Some weights of the model checkpoint at bert-base-multilingual-cased were not used when initializing BertForSequenceClassification: ['cls.predictions.bias', 'cls.predictions.transform.dense.weight', 'cls.predictions.transform.dense.bias', 'cls.predictions.decoder.weight', 'cls.seq_relationship.weight', 'cls.seq_relationship.bias', 'cls.predictions.transform.LayerNorm.weight', 'cls.predictions.transform.LayerNorm.bias']\n",
      "- This IS expected if you are initializing BertForSequenceClassification from the checkpoint of a model trained on another task or with another architecture (e.g. initializing a BertForSequenceClassification model from a BertForPreTraining model).\n",
      "- This IS NOT expected if you are initializing BertForSequenceClassification from the checkpoint of a model that you expect to be exactly identical (initializing a BertForSequenceClassification model from a BertForSequenceClassification model).\n",
      "Some weights of BertForSequenceClassification were not initialized from the model checkpoint at bert-base-multilingual-cased and are newly initialized: ['classifier.weight', 'classifier.bias']\n",
      "You should probably TRAIN this model on a down-stream task to be able to use it for predictions and inference.\n"
     ]
    },
    {
     "name": "stdout",
     "output_type": "stream",
     "text": [
      "[INFO] loading cached dataset.\n",
      "[INFO] loading cached dataset.\n",
      "[INFO] loading cached dataset.\n",
      "[INFO] loading cached dataset.\n",
      "[INFO] loading cached dataset.\n",
      "[INFO] loading cached dataset.\n",
      "[INFO] loading cached dataset.\n",
      "[INFO] loading cached dataset.\n",
      "[INFO] loading cached dataset.\n",
      "[INFO] loading cached dataset.\n",
      "[INFO] loading cached dataset.\n",
      "[INFO] loading cached dataset.\n",
      "[INFO] loading cached dataset.\n",
      "[INFO] loading cached dataset.\n",
      "[INFO] loading cached dataset.\n"
     ]
    },
    {
     "data": {
      "text/plain": [
       "{'chinese': <data_loader.data_iters.SeqClsDataIter at 0x7f14f2e9ea10>,\n",
       " 'english': <data_loader.data_iters.SeqClsDataIter at 0x7f14f2a49ed0>,\n",
       " 'french': <data_loader.data_iters.SeqClsDataIter at 0x7f14f29b6790>,\n",
       " 'german': <data_loader.data_iters.SeqClsDataIter at 0x7f14f28b8ed0>,\n",
       " 'japanese': <data_loader.data_iters.SeqClsDataIter at 0x7f14f2899c90>,\n",
       " 'korean': <data_loader.data_iters.SeqClsDataIter at 0x7f14f2a4dfd0>,\n",
       " 'spanish': <data_loader.data_iters.SeqClsDataIter at 0x7f14b6c9e5d0>}"
      ]
     },
     "execution_count": 4,
     "metadata": {},
     "output_type": "execute_result"
    }
   ],
   "source": [
    "init_config(conf)\n",
    "model, tokenizer, data_iter, metric_name, collocate_batch_fn = init_task(conf)\n",
    "\n",
    "data_iter"
   ]
  },
  {
   "cell_type": "code",
   "execution_count": 5,
   "id": "d7f889a4",
   "metadata": {},
   "outputs": [
    {
     "name": "stdout",
     "output_type": "stream",
     "text": [
      "[WARN] trn_egs of chinese has zero egs\n",
      "[WARN] trn_egs of french has zero egs\n",
      "[WARN] trn_egs of german has zero egs\n",
      "[WARN] trn_egs of japanese has zero egs\n",
      "[WARN] trn_egs of korean has zero egs\n",
      "[WARN] trn_egs of spanish has zero egs\n"
     ]
    }
   ],
   "source": [
    "adapt_loaders = {}\n",
    "for language, language_dataset in data_iter.items():\n",
    "    # NOTE: the sample dataset are refered\n",
    "    adapt_loaders[language] = wrap_sampler(\n",
    "        trn_batch_size=conf.finetune_batch_size,\n",
    "        infer_batch_size=conf.inference_batch_size,\n",
    "        language=language,\n",
    "        language_dataset=language_dataset,\n",
    "    )\n",
    "hooks = init_hooks(conf, metric_name)"
   ]
  },
  {
   "cell_type": "code",
   "execution_count": 6,
   "id": "c6d3458b",
   "metadata": {},
   "outputs": [
    {
     "data": {
      "text/plain": [
       "{'chinese': <data_loader.data_iters.SeqClsDataIter at 0x7f14f2e9ea10>,\n",
       " 'english': <data_loader.data_iters.SeqClsDataIter at 0x7f14f2a49ed0>,\n",
       " 'french': <data_loader.data_iters.SeqClsDataIter at 0x7f14f29b6790>,\n",
       " 'german': <data_loader.data_iters.SeqClsDataIter at 0x7f14f28b8ed0>,\n",
       " 'japanese': <data_loader.data_iters.SeqClsDataIter at 0x7f14f2899c90>,\n",
       " 'korean': <data_loader.data_iters.SeqClsDataIter at 0x7f14f2a4dfd0>,\n",
       " 'spanish': <data_loader.data_iters.SeqClsDataIter at 0x7f14b6c9e5d0>}"
      ]
     },
     "execution_count": 6,
     "metadata": {},
     "output_type": "execute_result"
    }
   ],
   "source": [
    "adapt_loaders"
   ]
  },
  {
   "cell_type": "code",
   "execution_count": 7,
   "id": "d6d51c22",
   "metadata": {},
   "outputs": [
    {
     "name": "stdout",
     "output_type": "stream",
     "text": [
      "2022-04-13 08:57:36\tInit trainer.\n"
     ]
    },
    {
     "data": {
      "text/plain": [
       "['english', 'german', 'chinese', 'french', 'japanese', 'korean', 'spanish']"
      ]
     },
     "execution_count": 7,
     "metadata": {},
     "output_type": "execute_result"
    }
   ],
   "source": [
    "trainer = BaselineTuner(\n",
    "        conf, collocate_batch_fn=collocate_batch_fn, logger=conf.logger\n",
    "    )\n",
    "trainer.conf.eval_languages"
   ]
  },
  {
   "cell_type": "code",
   "execution_count": 8,
   "id": "ecff3591",
   "metadata": {},
   "outputs": [],
   "source": [
    "import pickle\n",
    "\n",
    "def save_pickle(file, data):\n",
    "    with open(file, 'wb') as f:\n",
    "        pickle.dump(data, f)\n",
    "        \n",
    "def load_pickle(file):\n",
    "    with open(file, 'rb') as f:\n",
    "        return pickle.load(f)"
   ]
  },
  {
   "cell_type": "code",
   "execution_count": 11,
   "id": "2f873e13",
   "metadata": {},
   "outputs": [
    {
     "data": {
      "text/plain": [
       "<All keys matched successfully>"
      ]
     },
     "execution_count": 11,
     "metadata": {},
     "output_type": "execute_result"
    }
   ],
   "source": [
    "if conf.dataset_name == 'xnli':\n",
    "    PATH=\"./checkpoint_baseline/xnli/source_epoch/1649640879_model_task-xnli_flr-3.0E-05_ftbs-32_ftepcs-10_sd-3_trnfast-False_evalevery-12272_tlang-en_vlang-en-ar-bg-zh-fr-de-el-hi-ru-es-sw-th-tr-ur-vi/state_dicts/last_state.pt\"\n",
    "elif conf.dataset_name == 'pawsx':\n",
    "    PATH=\"/input/jongwooko/xlt/checkpoint_baseline/pawsx/source_epoch/1649640688_model_task-pawsx_flr-1.0E-05_ftbs-32_ftepcs-10_sd-3_trnfast-False_evalevery-1544_tlang-en_vlang-en-de-zh-fr-ja-ko-es/state_dicts/last_state.pt\"\n",
    "# torch.load(PATH)\n",
    "model.load_state_dict(torch.load(PATH), strict=True)"
   ]
  },
  {
   "cell_type": "code",
   "execution_count": 12,
   "id": "bbf86d95",
   "metadata": {},
   "outputs": [
    {
     "name": "stdout",
     "output_type": "stream",
     "text": [
      "Initialize Optimizer and Model\n",
      "Start language-english\n",
      "Start language-german\n",
      "Start language-chinese\n",
      "Start language-french\n",
      "Start language-japanese\n",
      "Start language-korean\n",
      "Start language-spanish\n"
     ]
    }
   ],
   "source": [
    "# trainer.train\n",
    "opt, model = trainer._init_model_opt(model)\n",
    "trainer.model = model\n",
    "trainer.model.eval()\n",
    "\n",
    "# for epoch_index in tqdm(range(1, 1 + 1)):\n",
    "    \n",
    "for language in trainer.conf.eval_languages: # trn_languages\n",
    "    print (\"Start language-{}\".format(language))\n",
    "    labels = np.empty((0,))\n",
    "    features = np.empty((0, 768))\n",
    "    trn_iters = []\n",
    "    egs = adapt_loaders[language].val_egs # trn_egs\n",
    "    trn_iters.append(iter(egs))\n",
    "\n",
    "    batches_per_epoch = max(len(ti) for ti in trn_iters)\n",
    "    for batch_index in range(1, batches_per_epoch + 1):\n",
    "        trn_loss = []\n",
    "        for ti in trn_iters:\n",
    "            try:\n",
    "                batched = next(ti)\n",
    "            except StopIteration:\n",
    "                continue\n",
    "            batched, golds, uids, _golds_tagging = trainer.collocate_batch_fn(\n",
    "                batched\n",
    "            )\n",
    "            with torch.no_grad():\n",
    "                hidden = trainer.model.get_last_hidden(**batched)\n",
    "                labels = np.concatenate((labels, golds.cpu()))\n",
    "                features = np.concatenate((features, hidden.cpu()), axis=0)\n",
    "    \n",
    "    os.makedirs('./stats/{}'.format(conf.dataset_name), exist_ok=True)\n",
    "    \n",
    "    output_dict = {}\n",
    "    for i in np.unique(labels):\n",
    "        feature = features[labels == i]\n",
    "        mean = np.mean(feature, axis=0)\n",
    "        cov = np.cov(feature.T)\n",
    "        output_dict[str(int(i))] = [{\"mean\": mean, \"cov\": cov}]\n",
    "    save_pickle('./stats/{}/{}.pkl'.format(conf.dataset_name, language), output_dict)"
   ]
  },
  {
   "cell_type": "markdown",
   "id": "acf1cabb",
   "metadata": {},
   "source": [
    "# Class-Class"
   ]
  },
  {
   "cell_type": "code",
   "execution_count": null,
   "id": "bf9a8523",
   "metadata": {},
   "outputs": [],
   "source": [
    "from numpy import dot\n",
    "from numpy.linalg import norm\n",
    "\n",
    "def cov_sim(r1, r2):\n",
    "    result = np.matmul(r1, r2)\n",
    "    result /= norm(r1) * norm(r2)\n",
    "    return result\n",
    "\n",
    "base_infos = load_pickle('./stats/{}/english.pkl'.format(conf.dataset_name))\n",
    "for i in list(base_infos.keys()):\n",
    "    print ('Start {}'.format(i))\n",
    "    base_mean = base_infos[i][0]['mean']\n",
    "    base_cov = base_infos[i][0]['cov'].flatten()\n",
    "    for language in trainer.conf.eval_languages:\n",
    "        infos = load_pickle('./stats/{}/{}.pkl'.format(conf.dataset_name, language))\n",
    "        mean = infos[i][0]['mean']\n",
    "        cov = infos[i][0]['cov'].flatten()\n",
    "        \n",
    "        cos_sim = dot(base_mean, mean)\n",
    "        cos_sim /= (norm(base_mean)*norm(mean))\n",
    "\n",
    "        cos_sim2 = dot(base_cov, cov)\n",
    "        cos_sim2 /= (norm(base_cov)*norm(cov))\n",
    "        # cos_sim2 = cov_sim(base_cov, cov)\n",
    "        print (language, round(cos_sim, 4), round(cos_sim2, 4))\n",
    "    \n",
    "    print ('')"
   ]
  }
 ],
 "metadata": {
  "kernelspec": {
   "display_name": "Full on Python 3.7 (GPU)",
   "language": "python",
   "name": "python3"
  },
  "language_info": {
   "codemirror_mode": {
    "name": "ipython",
    "version": 3
   },
   "file_extension": ".py",
   "mimetype": "text/x-python",
   "name": "python",
   "nbconvert_exporter": "python",
   "pygments_lexer": "ipython3",
   "version": "3.7.11"
  }
 },
 "nbformat": 4,
 "nbformat_minor": 5
}
