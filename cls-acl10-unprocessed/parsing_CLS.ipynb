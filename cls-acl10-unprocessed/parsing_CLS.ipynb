{
 "cells": [
  {
   "cell_type": "code",
   "execution_count": null,
   "id": "6ed755ff",
   "metadata": {},
   "outputs": [],
   "source": [
    "import os\n",
    "import numpy as np\n",
    "import pandas as pd\n",
    "import xml.etree.ElementTree as ET"
   ]
  },
  {
   "cell_type": "code",
   "execution_count": null,
   "id": "56d0b4d7",
   "metadata": {},
   "outputs": [],
   "source": [
    "ds = ['books', 'dvd', 'music']\n",
    "ls = ['en', 'fr', 'de', 'jp']\n",
    "ld = {'en': 'en', 'fr':'fr', 'de':'de', 'jp':'ja'}\n",
    "ss = ['train', 'test']\n",
    "\n",
    "for l in ls:\n",
    "    for d in ds:\n",
    "        for s in ss:\n",
    "            filePath = os.path.join(os.getcwd(), l, d, f'{s}.review')\n",
    "            tree = ET.parse(filePath)\n",
    "            root = tree.getroot()\n",
    "            \n",
    "            print (filePath)\n",
    "            dataset = []\n",
    "            \n",
    "            rating_lst = [0, 0, 0, 0, 0]\n",
    "            for r in range(len(root)):\n",
    "                data = [None for _ in range(3)]\n",
    "                for a in range(len(root[r])):\n",
    "                    if root[r][a].tag == 'rating':\n",
    "                        if int(float(root[r][a].text)) < 3:\n",
    "                            data[2] = \"neg\"\n",
    "                        else:\n",
    "                            data[2] = \"pos\"\n",
    "                    elif root[r][a].tag == \"text\":\n",
    "                        try:\n",
    "                            data[1] = ' '.join(root[r][a].text.strip().split('\\n'))\n",
    "                            data[1] = ' '.join(data[1].strip().split('\\t'))\n",
    "                        except AttributeError:\n",
    "                            data[1] = 'None'\n",
    "                    elif root[r][a].tag == \"summary\":\n",
    "                        data[0] = ' '.join(root[r][a].text.strip().split('\\n'))\n",
    "                        data[0] = ' '.join(data[0].strip().split('\\t'))\n",
    "                dataset.append(data)\n",
    "            df = pd.DataFrame(dataset)\n",
    "#             df.to_csv('/root/cls/{}_{}_{}.tsv'.format(d, ld[l], s), sep='\\t', index=False, header=None)\n",
    "            df.to_csv('/input/jongwooko/xlt/data/download/cls/{}_{}_{}.tsv'.format(d, ld[l], s), \n",
    "                      sep='\\t', index=False, header=None)"
   ]
  },
  {
   "cell_type": "code",
   "execution_count": null,
   "id": "b4b4a824",
   "metadata": {},
   "outputs": [],
   "source": [
    "f = pd.read_csv('books_de_train.tsv', sep='\\t')"
   ]
  },
  {
   "cell_type": "code",
   "execution_count": null,
   "id": "9b041c40",
   "metadata": {},
   "outputs": [],
   "source": [
    "f.iloc[0][0], f.iloc[0][1], f.iloc[0][2]"
   ]
  },
  {
   "cell_type": "code",
   "execution_count": null,
   "id": "a589ddf6",
   "metadata": {},
   "outputs": [],
   "source": []
  }
 ],
 "metadata": {
  "kernelspec": {
   "display_name": "Full on Python 3.6 (GPU)",
   "language": "python",
   "name": "python3"
  },
  "language_info": {
   "codemirror_mode": {
    "name": "ipython",
    "version": 3
   },
   "file_extension": ".py",
   "mimetype": "text/x-python",
   "name": "python",
   "nbconvert_exporter": "python",
   "pygments_lexer": "ipython3",
   "version": "3.6.14"
  }
 },
 "nbformat": 4,
 "nbformat_minor": 5
}
