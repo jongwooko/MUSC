{
 "cells": [
  {
   "cell_type": "code",
   "execution_count": null,
   "id": "68867e89",
   "metadata": {},
   "outputs": [],
   "source": [
    "import os\n",
    "import ast\n",
    "import numpy as np\n",
    "import pandas as pd\n",
    "import matplotlib.pyplot as plt"
   ]
  },
  {
   "cell_type": "code",
   "execution_count": null,
   "id": "3be618eb",
   "metadata": {},
   "outputs": [],
   "source": [
    "dataset = 'panx'\n",
    "\n",
    "if dataset == 'pawsx':\n",
    "    langs = ['english', 'german', 'chinese', 'french', 'japanese', 'korean', 'spanish']\n",
    "elif dataset == 'xnli':\n",
    "    langs = ['english', 'arabic', 'bulgarian', 'chinese', 'french', 'german', 'greek', 'hindi',\n",
    "             'russian', 'spanish', 'swahili', 'thai', 'turkish', 'urdu', 'vietnamese']\n",
    "elif dataset == 'udpos':\n",
    "    langs = ['english', 'afrikaans', 'arabic', 'bulgarian', 'german', 'greek', 'spanish', 'estonian', 'basque', 'persian',\n",
    "             'finnish', 'french', 'hebrew', 'hindi', 'hungarian', 'indonesian', 'italian', 'japanese', 'korean',\n",
    "             'marathi', 'dutch', 'portuguese', 'russian', 'tamil', 'telugu', 'turkish', 'urdu', 'vietnamese', 'chinese']\n",
    "elif dataset == 'panx':\n",
    "    langs = ['english', 'afrikaans', 'arabic', 'bulgarian', 'bengali', 'german', 'greek', 'spanish', 'estonian', 'basque', 'persian',\n",
    "             'finnish', 'french', 'hebrew', 'hindi', 'hungarian', 'indonesian', 'italian', 'japanese', 'javanese', 'georgian', 'kazakh', 'korean',\n",
    "             'malayalam', 'marathi', 'malay', 'burmese', 'dutch', 'portuguese', 'russian', 'swahili', 'tamil', 'telugu',\n",
    "             'thai', 'tagalog', 'turkish', 'urdu', 'vietnamese', 'yoruba', 'chinese']"
   ]
  },
  {
   "cell_type": "code",
   "execution_count": null,
   "id": "0875d3c0",
   "metadata": {},
   "outputs": [],
   "source": [
    "results_dict = {}\n",
    "metrics = ['val_egs', 'tst_egs']\n",
    "for lang in langs:\n",
    "    results_dict[lang] = {}\n",
    "    for metric in metrics:\n",
    "        results_dict[lang][metric] = []\n",
    "        \n",
    "# update 1번 했을 때 성능 (0 epoch으로 둘려고..)\n",
    "root_dir = '/input/jongwooko/xlt/checkpoint_baseline/{}/source_epoch'.format(dataset)\n",
    "filelist = os.listdir(root_dir)\n",
    "print (filelist)\n",
    "file = [f for f in filelist if 'ftepcs-999' in f][0]\n",
    "with open(os.path.join(root_dir, file, 'log.txt'), \"r\") as f:\n",
    "    strings = f.readlines()\n",
    "    evaluate_lst = [s for s in strings if 'Evaluate' in s]\n",
    "    result_str = strings[strings.index(evaluate_lst[0])+2].split('dict_items')[-1].replace('\\n', '')\n",
    "result = ast.literal_eval(result_str)\n",
    "for lang_idx, lang in enumerate(langs):\n",
    "    for metric_idx, metric in enumerate(metrics):\n",
    "        results_dict[lang][metric].append(result[lang_idx][1][metric_idx][1])\n",
    "\n",
    "# update 1 epoch ~ 10 epoch 까지\n",
    "file = [f for f in filelist if 'ftepcs-10' in f][0]\n",
    "with open(os.path.join(root_dir, file, 'log.txt'), \"r\") as f:\n",
    "    strings = f.readlines()\n",
    "    evaluate_lst = [s for s in strings if 'Evaluate' in s]\n",
    "    for e in evaluate_lst:\n",
    "        result_str = strings[strings.index(e)+2].split('dict_items')[-1].replace('\\n', '')\n",
    "        result = ast.literal_eval(result_str)\n",
    "        for lang_idx, lang in enumerate(langs):\n",
    "            for metric_idx, metric in enumerate(metrics):\n",
    "                results_dict[lang][metric].append(result[lang_idx][1][metric_idx][1])"
   ]
  },
  {
   "cell_type": "code",
   "execution_count": null,
   "id": "22f68ed2",
   "metadata": {},
   "outputs": [],
   "source": [
    "plt.figure(figsize=(12, 8))\n",
    "metric_criterion = 'val_egs'\n",
    "# metric_criterion = 'tst_egs'\n",
    "for lang, metric in results_dict.items():\n",
    "    xrange = range(len(metric[metric_criterion]))\n",
    "    plt.plot(xrange, metric[metric_criterion], label=lang)\n",
    "plt.legend()\n",
    "plt.xlabel('Epoch')\n",
    "if dataset in ['udpos', 'panx']:\n",
    "    plt.ylabel('F1 score')\n",
    "else:\n",
    "    plt.ylabel('Accuracy')\n",
    "plt.show()\n",
    "plt.close()"
   ]
  },
  {
   "cell_type": "code",
   "execution_count": null,
   "id": "9de70feb",
   "metadata": {},
   "outputs": [],
   "source": []
  }
 ],
 "metadata": {
  "kernelspec": {
   "display_name": "Full on Python 3.7 (GPU)",
   "language": "python",
   "name": "python3"
  },
  "language_info": {
   "codemirror_mode": {
    "name": "ipython",
    "version": 3
   },
   "file_extension": ".py",
   "mimetype": "text/x-python",
   "name": "python",
   "nbconvert_exporter": "python",
   "pygments_lexer": "ipython3",
   "version": "3.7.11"
  }
 },
 "nbformat": 4,
 "nbformat_minor": 5
}
